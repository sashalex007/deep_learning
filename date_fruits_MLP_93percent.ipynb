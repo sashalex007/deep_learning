{
  "nbformat": 4,
  "nbformat_minor": 0,
  "metadata": {
    "colab": {
      "provenance": [],
      "authorship_tag": "ABX9TyMbttlhk8lofn53s4sA1KIx",
      "include_colab_link": true
    },
    "kernelspec": {
      "name": "python3",
      "display_name": "Python 3"
    },
    "language_info": {
      "name": "python"
    }
  },
  "cells": [
    {
      "cell_type": "markdown",
      "metadata": {
        "id": "view-in-github",
        "colab_type": "text"
      },
      "source": [
        "<a href=\"https://colab.research.google.com/github/sashalex007/deep_learning/blob/main/date_fruits_MLP_93percent.ipynb\" target=\"_parent\"><img src=\"https://colab.research.google.com/assets/colab-badge.svg\" alt=\"Open In Colab\"/></a>"
      ]
    },
    {
      "cell_type": "code",
      "execution_count": 22,
      "metadata": {
        "colab": {
          "base_uri": "https://localhost:8080/"
        },
        "id": "w5-8s43NV4lM",
        "outputId": "3e69cc1a-ff34-4328-9886-d07dd53cf3a1"
      },
      "outputs": [
        {
          "output_type": "execute_result",
          "data": {
            "text/plain": [
              "((898, 34), (898, 7))"
            ]
          },
          "metadata": {},
          "execution_count": 22
        }
      ],
      "source": [
        "import pandas as pd\n",
        "filepath = 'Documents/deep_learning/Date_Fruit_Datasets/Date_Fruit_Datasets.xlsx'\n",
        "dataset = pd.read_excel(filepath, sheet_name=0)\n",
        "\n",
        "targets_frame = dataset['Class'].to_frame() #isolate targets\n",
        "targets_frame = pd.get_dummies(targets_frame, columns=['Class']) #one-hot encode targets\n",
        "samples_frame = dataset.drop('Class', axis=1) #isolate samples\n",
        "\n",
        "classes = list(targets_frame.columns) #save class names\n",
        "samples_frame = (samples_frame - samples_frame.min()) / (samples_frame.max() - samples_frame.min()) #center data\n",
        "samples_frame.shape, targets_frame.shape"
      ]
    },
    {
      "cell_type": "code",
      "source": [
        "import torch\n",
        "torch.manual_seed(3) #set RNG seed\n",
        "\n",
        "samples_vals = samples_frame.values #dataframe to numpy tensor\n",
        "targets_vals = targets_frame.values\n",
        "\n",
        "samples = torch.tensor(samples_vals, dtype=torch.float) #numpy tensor to torch tensor\n",
        "targets = torch.tensor(targets_vals, dtype=torch.float)\n",
        "\n",
        "data = torch.cat([samples, targets], dim=1) #concat samples and targets\n",
        "data = data[torch.randperm(data.size()[0])] #shuffle data\n",
        "\n",
        "n = int(0.7*len(data)) #split into train/val\n",
        "train_data = data[:n]\n",
        "val_data = data[n:]\n",
        "train_data.shape, val_data.shape"
      ],
      "metadata": {
        "colab": {
          "base_uri": "https://localhost:8080/"
        },
        "id": "7QRokJjna5DZ",
        "outputId": "37fb4945-bb13-4da6-c526-21dafbe83348"
      },
      "execution_count": 23,
      "outputs": [
        {
          "output_type": "execute_result",
          "data": {
            "text/plain": [
              "(torch.Size([628, 41]), torch.Size([270, 41]))"
            ]
          },
          "metadata": {},
          "execution_count": 23
        }
      ]
    },
    {
      "cell_type": "code",
      "source": [
        "batch_size = 12 #set mini-batch size for stochastic optimization\n",
        "fan_in = 34 #input size\n",
        "expand = 2 #hidden layer size is (fan_in + expand). Dimensionality increase factor.\n",
        "fan_out = 7 #output size (mulitnoulli distribution size after softmax)\n",
        "eval_iters = 100 #evaluation interval"
      ],
      "metadata": {
        "id": "LL4fh0Mugp41"
      },
      "execution_count": 24,
      "outputs": []
    },
    {
      "cell_type": "code",
      "source": [
        "def get_batch(split): #get stochastic batch\n",
        "  data = train_data if split == 'train' else val_data\n",
        "  ix = torch.randint(len(data), (batch_size,))\n",
        "  x = torch.stack([data[i,:34] for i in ix]) #split samples and targets\n",
        "  y = torch.cat([torch.nonzero(data[i,34:])[0] for i in ix])\n",
        "  return x, y\n",
        "\n",
        "@torch.no_grad()\n",
        "def estimate_loss(): #evaluate model\n",
        "  out = {}\n",
        "  model.eval()\n",
        "  for split in ['train', 'val']:\n",
        "    losses = torch.zeros(eval_iters)\n",
        "    for k in range(eval_iters):\n",
        "      X, Y = get_batch(split)\n",
        "      logits, loss = model(X, Y)\n",
        "      losses[k] = loss.item()\n",
        "    out[split] = losses.mean()\n",
        "  model.train()\n",
        "  return out"
      ],
      "metadata": {
        "id": "TTpn4fysLYxs"
      },
      "execution_count": 25,
      "outputs": []
    },
    {
      "cell_type": "code",
      "source": [
        "import torch.nn as nn\n",
        "from torch.nn import functional as F\n",
        "\n",
        "class MLP(nn.Module): #model\n",
        "  def __init__(self):\n",
        "    super().__init__()\n",
        "    self.net = nn.Sequential( #mlp with batchnorm, tanh activation and dropout, and output layer\n",
        "        nn.Linear(fan_in, fan_in + expand, bias=False),\n",
        "        nn.LayerNorm(fan_in + expand),\n",
        "        nn.Tanh(),\n",
        "        nn.Dropout(0.35),\n",
        "        nn.Linear(fan_in + expand, fan_out),\n",
        "    )\n",
        "\n",
        "  def forward(self, x, targets=None):\n",
        "    logits = self.net(x)\n",
        "    if targets is None:\n",
        "      loss = None\n",
        "    else:\n",
        "      loss = F.cross_entropy(logits, targets)\n",
        "    return logits, loss\n",
        "\n",
        "  def predict(self, x, ground_truth):\n",
        "    logits, loss = self(x)\n",
        "    probs = F.softmax(logits, dim=1)\n",
        "    prediction = torch.argmax(probs)\n",
        "    return prediction, ground_truth\n"
      ],
      "metadata": {
        "id": "2HzVf2adR-bI"
      },
      "execution_count": 26,
      "outputs": []
    },
    {
      "cell_type": "code",
      "source": [
        "model = MLP()\n",
        "print(sum(p.numel() for p in model.parameters()), 'model parameters')\n",
        "optimizer = torch.optim.AdamW(model.parameters(), lr=3e-4)\n",
        "\n",
        "min_val_loss = (float('inf'), -1)\n",
        "model_state = None\n",
        "\n",
        "max_iter = 20000\n",
        "train_losses = []\n",
        "val_losses = []\n",
        "\n",
        "for iter in range(max_iter):\n",
        "\n",
        "  if iter % 100 == 0 or iter == max_iter - 1: #evaluate model\n",
        "    losses = estimate_loss()\n",
        "    train_losses.append(losses['train'])\n",
        "    val_losses.append(losses['val'])\n",
        "\n",
        "    if losses['val'] < min_val_loss[0]: #save model state if val loss decreased\n",
        "      min_val_loss = losses['val'], iter\n",
        "      model_state = model.state_dict()\n",
        "\n",
        "    if iter % 1000 == 0 or iter == max_iter - 1:\n",
        "      print(f\"step {iter}: train loss {losses['train']:.4f}, val loss {losses['val']:.4f}\")\n",
        "\n",
        "  xb, yb = get_batch('train')\n",
        "  logits, loss = model(xb, yb)\n",
        "  optimizer.zero_grad(set_to_none=True)\n",
        "  loss.backward()\n",
        "  optimizer.step()\n",
        "\n",
        "print(f\"best val loss {min_val_loss[0].item():.4f}, training iteration {min_val_loss[1]}\")\n",
        "import matplotlib.pyplot as plt\n",
        "plt.plot(train_losses) #plot losses\n",
        "plt.plot(val_losses)\n",
        "plt.show()"
      ],
      "metadata": {
        "colab": {
          "base_uri": "https://localhost:8080/",
          "height": 829
        },
        "id": "uT8qehjckoD9",
        "outputId": "582f545f-17a2-4ed0-b9fa-cdb58aa87a31"
      },
      "execution_count": 27,
      "outputs": [
        {
          "output_type": "stream",
          "name": "stdout",
          "text": [
            "1555 model parameters\n",
            "step 0: train loss 1.9532, val loss 1.9554\n",
            "step 1000: train loss 0.5095, val loss 0.5681\n",
            "step 2000: train loss 0.3510, val loss 0.4200\n",
            "step 3000: train loss 0.2854, val loss 0.3784\n",
            "step 4000: train loss 0.2494, val loss 0.2766\n",
            "step 5000: train loss 0.2101, val loss 0.2778\n",
            "step 6000: train loss 0.1873, val loss 0.2566\n",
            "step 7000: train loss 0.2266, val loss 0.2578\n",
            "step 8000: train loss 0.1493, val loss 0.2637\n",
            "step 9000: train loss 0.1766, val loss 0.2288\n",
            "step 10000: train loss 0.1317, val loss 0.2261\n",
            "step 11000: train loss 0.1335, val loss 0.2324\n",
            "step 12000: train loss 0.1232, val loss 0.2489\n",
            "step 13000: train loss 0.1439, val loss 0.2029\n",
            "step 14000: train loss 0.1286, val loss 0.2174\n",
            "step 15000: train loss 0.1137, val loss 0.2381\n",
            "step 16000: train loss 0.1194, val loss 0.2033\n",
            "step 17000: train loss 0.1260, val loss 0.2021\n",
            "step 18000: train loss 0.1218, val loss 0.2252\n",
            "step 19000: train loss 0.1098, val loss 0.2192\n",
            "step 19999: train loss 0.1276, val loss 0.2421\n",
            "best val loss 0.1728, training iteration 16100\n"
          ]
        },
        {
          "output_type": "display_data",
          "data": {
            "text/plain": [
              "<Figure size 640x480 with 1 Axes>"
            ],
            "image/png": "[encoded data removed]"
          },
          "metadata": {}
        }
      ]
    },
    {
      "cell_type": "code",
      "source": [
        "model = MLP()\n",
        "model.load_state_dict(model_state) #load model with lowest val loss\n",
        "\n",
        "model.eval()\n",
        "with torch.no_grad(): #evaluate on entire valitation set\n",
        "  incorrect = 0\n",
        "  inc_data = {}\n",
        "  for _class in classes: #initialize frequency map for all class pairs\n",
        "    for __class in classes:\n",
        "      if __class != _class:\n",
        "        inc_data[(_class, __class)] = 0\n",
        "\n",
        "  for i in range(len(val_data)):\n",
        "    data = val_data\n",
        "    ix = [i]\n",
        "    x = torch.stack([data[i,:34] for i in ix])\n",
        "    y = torch.cat([torch.nonzero(data[i,34:])[0] for i in ix])\n",
        "    prediction, true_val = model.predict(x, y)\n",
        "    if prediction.item() != true_val.item():\n",
        "      inc_data[(classes[prediction.item()], classes[true_val.item()])] += 1\n",
        "      incorrect += 1\n",
        "\n",
        "  print('error :', 100-incorrect/len(val_data)*100)\n",
        "  print('mislabeled (prediction, true)')\n",
        "  for class_pair, incorrect_count in inc_data.items():\n",
        "    if incorrect_count > 0:\n",
        "      print(class_pair,':', incorrect_count)"
      ],
      "metadata": {
        "colab": {
          "base_uri": "https://localhost:8080/"
        },
        "id": "h7g4XvxG5ZKC",
        "outputId": "a6d716b8-1e1c-4c91-adb4-135121eba63e"
      },
      "execution_count": 35,
      "outputs": [
        {
          "output_type": "stream",
          "name": "stdout",
          "text": [
            "error : 92.96296296296296\n",
            "mislabeled (prediction, true)\n",
            "('Class_DEGLET', 'Class_DOKOL') : 1\n",
            "('Class_DEGLET', 'Class_ROTANA') : 1\n",
            "('Class_DEGLET', 'Class_SOGAY') : 2\n",
            "('Class_DOKOL', 'Class_DEGLET') : 1\n",
            "('Class_DOKOL', 'Class_SAFAVI') : 1\n",
            "('Class_IRAQI', 'Class_BERHI') : 3\n",
            "('Class_ROTANA', 'Class_BERHI') : 1\n",
            "('Class_ROTANA', 'Class_IRAQI') : 1\n",
            "('Class_SAFAVI', 'Class_DEGLET') : 1\n",
            "('Class_SAFAVI', 'Class_SOGAY') : 1\n",
            "('Class_SOGAY', 'Class_DEGLET') : 4\n",
            "('Class_SOGAY', 'Class_DOKOL') : 1\n",
            "('Class_SOGAY', 'Class_ROTANA') : 1\n"
          ]
        }
      ]
    }
  ]
}